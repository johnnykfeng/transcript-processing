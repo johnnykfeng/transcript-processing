{
 "cells": [
  {
   "cell_type": "code",
   "execution_count": 2,
   "metadata": {},
   "outputs": [],
   "source": [
    "from transcript_processing_functions import \\\n",
    "                        full_transcript2essay, \\\n",
    "                        extract_metadata_as_json\n"
   ]
  },
  {
   "cell_type": "code",
   "execution_count": 2,
   "metadata": {},
   "outputs": [],
   "source": [
    "with open(r'./transcripts/test_transcript.md', 'r') as file:\n",
    "    raw_transcript = file.read()"
   ]
  },
  {
   "cell_type": "code",
   "execution_count": 3,
   "metadata": {},
   "outputs": [],
   "source": [
    "# takes about 2-3 minutes to run\n",
    "final_essay = full_transcript2essay(raw_transcript)"
   ]
  },
  {
   "cell_type": "code",
   "execution_count": 5,
   "metadata": {},
   "outputs": [
    {
     "data": {
      "text/plain": [
       "'Large language models and fine-tuning were the main topics of a presentation given by Ehsan Kamalinejad. He began by discussing the rapid advancements in the field and the difficulty in choosing a specific topic to focus on. Ultimately, he decided to delve into the concept of fine-tuning large language models.\\n\\nKamalinejad provided a brief history of the development of large language models in the era of deep learning. He specifically focused on transformer-based models, which have seen significant development since 2018. These models, such as GPT and the family of models from Google, have been primarily used for auto-regressive tasks, where the models are trained to predict the next token in a sequence.\\n\\nThe pre-training of these models is done through self-supervised training, either through masked language modeling (MLM) or causal language modeling (CLM). Kamalinejad mentioned a disagreement with Amir regarding the terminology, as he referred to them as \"causal\" language models. Regardless, these models are trained on a wide range of text data, making them versatile for various tasks.\\n\\nThe pre-training process involves next token prediction, which is a simple yet effective setup. It allows the models to learn patterns and understand different contexts, such as mathematics or historical facts. Kamalinejad emphasized that these models excel at autoregressive tasks but require fine-tuning to be usable for specific domains or problems.\\n\\nTo extract the knowledge stored in these large language models, fine-tuning is necessary. There are two main methods of fine-tuning: supervised fine-tuning and reinforcement learning with human feedback. Supervised fine-tuning involves creating a diverse set of prompt datasets compatible with the task at hand. These prompts are completed by labelers, creating query-response pairs that are then used to fine-tune the model.\\n\\nReinforcement learning with human feedback, on the other hand, involves using other models or specific data to fine-tune the language model. Kamalinejad mentioned the RLS-chef method as an example of reinforcement fine-tuning. This method allows for the injection of biases into the model to improve its performance.\\n\\nIn the presentation, Ehsan Kamalinejad discussed the process of training large language models using reinforcement learning from human feedback (RLHF). He explained that in RLHF, prompts are created and exposed to the model, which generates responses. These responses are then ranked by human labelers based on their quality. The ranking mechanism is used to create a reward model, which helps identify better and worse responses.\\n\\nOnce the reward model is trained, it is applied to the base model during reinforcement learning. The reward model guides the base model by providing feedback on the generated text, encouraging good answers and discouraging bad ones. This training process is more complex than supervised fine-tuning, but it has shown to be more effective in reducing catastrophic forgetting, where the model forgets past knowledge.\\n\\nEhsan also mentioned that RLHF requires online data collection, as the model needs to generate responses for labeling. On the other hand, supervised fine-tuning allows for offline data collection, making it easier to gather large amounts of data from sources like Stack Overflow.\\n\\nDuring the presentation, Ehsan demonstrated the impact of supervised fine-tuning on model behavior using a live demo. He showed examples of a base model and a fine-tuned model answering questions. The fine-tuned model consistently provided more accurate and relevant answers, showcasing the effectiveness of fine-tuning in improving model performance.\\n\\nEhsan also discussed the pros and cons of supervised fine-tuning and RLHF. While RLHF requires more effort from labelers, it offers a more robust and less prone to catastrophic forgetting training approach. Supervised fine-tuning, on the other hand, allows for easier data collection but may suffer from catastrophic forgetting.\\n\\nThe presentation concluded with a discussion of the amount of data required for supervised fine-tuning and RLHF. Ehsan mentioned that the data requirements depend on the specific task and model, and it is not clear which approach works better in all cases.\\n\\nIn the presentation, Ehsan Kamalinejad discusses various aspects of large language models and machine learning research. He begins by addressing the question of how much data is needed for these models to generate good answers in a specific domain. While there is no definitive answer yet, empirical results suggest that tens of thousands of samples are required for effective fine-tuning of language models. This is relatively small compared to the large datasets typically used to train deep neural network models.\\n\\nAnother question raised is the extent of improvement achieved through fine-tuning. Currently, there is no agreed-upon measure to assess the quality of these models, as traditional benchmarks are becoming saturated. Therefore, there is a need for better metrics to evaluate the performance of large language models.\\n\\nThe topic of scaling laws is also discussed, particularly in terms of limited compute resources. It is important to determine whether to allocate limited compute power to obtaining more tokens (larger dataset) or using a larger model. The Chinchilla paper from DeepMind provides insights into scaling laws, but the question of fine-tuning is still significant and requires further research.\\n\\nThe effectiveness of methods such as Path in parameter-efficient fine-tuning is another important question. While some partial answers exist, there is still much to be understood about these methods and how they compare to each other.\\n\\nDuring the presentation, Amir Feizpour asks about the specific parameters that are changed during fine-tuning. Ehsan explains that there are different methods, such as Path and Laura, which involve freezing certain layers or weights of the model while fine-tuning the rest. Each method has its own strengths and weaknesses, and it is currently unclear which one is the most effective.\\n\\nAmir also asks about practical tips for using these techniques at home, particularly for smaller-scale projects. Ehsan suggests that while training large models on personal machines may be challenging, it is possible to shrink the models by freezing parameters and training them on GPUs available in platforms like Colab. He mentions that Hugging Face provides resources and documentation on how to train models with limited compute.\\n\\nThe discussion concludes with the mention of open-source models and datasets, such as OpenAI\\'s Open Assistant effort, which can be used for supervised fine-tuning or other methods. Ehsan highlights that these methods are model-agnostic, allowing researchers to apply them based on the available compute resources.\\n\\nIn the presentation, Ehsan Kamalinejad discussed large language models and machine learning research. He mentioned that there are different sizes of models available, ranging from 1 billion to 60 billion parameters. These models can be run on laptops or on cloud platforms like AWS. Kamalinejad also mentioned that he could help with AWS if anyone needed assistance.\\n\\nDuring the presentation, Amir Feizpour asked about tools to collect data specifically for prompt and answer pairs to train their agent. Kamalinejad mentioned that there are several labeling tools available, with Scale AI being the best paid option. He also mentioned that there are some open-source tools, but their quality and interaction are not as good as Scale AI. Kamalinejad mentioned that Open Assistant and an upcoming tool from AWS could be options for those looking for free labeling tools.\\n\\nFeizpour then brought up the idea of using large language models for data generation, specifically synthetic data generation. He asked if it was possible to collect enough data, use the OpenAI API to generate a training set, and train a small model on that data. Kamalinejad confirmed that it is possible to do so, but mentioned that there are licensing and legal issues to consider. OpenAI does not allow the use of their API and interactive application for training your own models. Kamalinejad explained that while it is possible to distill knowledge from OpenAI\\'s models to your own, it may not be permissible to release the trained model.\\n\\nThe discussion then shifted to the fine-tuning paradigm and its accessibility. Kamalinejad emphasized the importance of sticking to principles and mentioned that methods like applying reinforcement learning (RL) for fine-tuning are generic and can be applied to any model. He also mentioned other fine-tuning methods like supervised fine-tuning and prompt tuning, but noted that they may be more specific and less generalizable. Kamalinejad stated that RL is currently the most principled approach for fine-tuning, but acknowledged that it can be complex on the engineering side.\\n\\nFeizpour added that data is ultimately the most important aspect of machine learning models. He emphasized that data is the gold standard and that algorithms and frameworks are not particularly defensible. Kamalinejad agreed and highlighted the difficulty of obtaining the right data for training models.\\n\\nTowards the end of the presentation, Kamalinejad mentioned that AWS has a new initiative to create foundational models and collaborate with other labs to make open-source models more widely available. He mentioned collaborations with companies like Cohere, Tropic, and Stability AI. Kamalinejad also mentioned ongoing discussions with Entropic and Stability from AWS.\\n\\nOverall, the presentation provided insights into large language models, fine-tuning paradigms, data collection tools, and the future initiatives of AWS in the field of machine learning research.'"
      ]
     },
     "execution_count": 5,
     "metadata": {},
     "output_type": "execute_result"
    }
   ],
   "source": [
    "final_essay"
   ]
  },
  {
   "cell_type": "code",
   "execution_count": 6,
   "metadata": {},
   "outputs": [],
   "source": [
    "essay_filepath = r'./essays/test_essay.txt'\n",
    "\n",
    "# save the final essay to a file\n",
    "with open(essay_filepath, 'w') as file:\n",
    "    file.write(final_essay)"
   ]
  },
  {
   "attachments": {},
   "cell_type": "markdown",
   "metadata": {},
   "source": [
    "# start here if essay exists"
   ]
  },
  {
   "cell_type": "code",
   "execution_count": 3,
   "metadata": {},
   "outputs": [],
   "source": [
    "# load essay from file\n",
    "essay_filepath = r'./essays/test_essay.txt'\n",
    "with open(essay_filepath, 'r') as file:\n",
    "    essay = file.read()"
   ]
  },
  {
   "cell_type": "code",
   "execution_count": 5,
   "metadata": {},
   "outputs": [],
   "source": [
    "# 17 seconds\n",
    "metadata = extract_metadata_as_json(essay)"
   ]
  },
  {
   "cell_type": "code",
   "execution_count": 6,
   "metadata": {},
   "outputs": [
    {
     "name": "stdout",
     "output_type": "stream",
     "text": [
      "<class 'dict'>\n",
      "{'Title': 'Large Language Models and Fine-Tuning', 'Speaker': 'Ehsan Kamalinejad', 'Summary': \"Ehsan Kamalinejad discusses large language models, focusing on fine-tuning and its methods. He explores supervised fine-tuning and reinforcement learning with human feedback (RLHF). Kamalinejad also addresses the amount of data required for effective fine-tuning and the need for better evaluation metrics. The presentation covers topics such as scaling laws, parameter-efficient fine-tuning, and practical tips for smaller-scale projects. Kamalinejad mentions open-source models and datasets, as well as tools for data collection and synthetic data generation. The discussion concludes with insights into AWS's initiatives in the field of machine learning research.\", 'Topics': ['Large language models', 'Fine-tuning', 'Supervised fine-tuning', 'Reinforcement learning with human feedback (RLHF)', 'Data requirements', 'Evaluation metrics', 'Scaling laws', 'Parameter-efficient fine-tuning', 'Practical tips', 'Open-source models and datasets', 'Data collection tools', 'Synthetic data generation', 'AWS initiatives'], 'Takeaways': ['Fine-tuning is necessary to extract knowledge from large language models', 'Supervised fine-tuning involves creating prompt datasets and query-response pairs', 'RLHF uses human feedback to rank model responses and guide reinforcement learning', 'RLHF reduces catastrophic forgetting in models', 'Data requirements for fine-tuning depend on the task and model', 'Better evaluation metrics are needed for large language models', 'Scaling laws and parameter-efficient fine-tuning are important research areas', 'Practical tips include shrinking models and utilizing available compute resources', 'Open-source models and datasets are available for supervised fine-tuning', 'Data collection tools like Scale AI can assist in creating prompt and answer pairs', 'Synthetic data generation is possible but has licensing and legal considerations', 'RL is a generic and principled approach for fine-tuning', 'Data is crucial for machine learning models', 'AWS has initiatives for creating foundational models and collaborating with other labs']}\n"
     ]
    }
   ],
   "source": [
    "# print(type(metadata))\n",
    "# print(metadata)"
   ]
  },
  {
   "cell_type": "code",
   "execution_count": 7,
   "metadata": {},
   "outputs": [
    {
     "name": "stdout",
     "output_type": "stream",
     "text": [
      "Title: Large Language Models and Fine-Tuning\n",
      "Speaker: Ehsan Kamalinejad\n",
      "Summary: Ehsan Kamalinejad discusses large language models, focusing on fine-tuning and its methods. He explores supervised fine-tuning and reinforcement learning with human feedback (RLHF). Kamalinejad also addresses the amount of data required for effective fine-tuning and the need for better evaluation metrics. The presentation covers topics such as scaling laws, parameter-efficient fine-tuning, and practical tips for smaller-scale projects. Kamalinejad mentions open-source models and datasets, as well as tools for data collection and synthetic data generation. The discussion concludes with insights into AWS's initiatives in the field of machine learning research.\n",
      "Topics: ['Large language models', 'Fine-tuning', 'Supervised fine-tuning', 'Reinforcement learning with human feedback (RLHF)', 'Data requirements', 'Evaluation metrics', 'Scaling laws', 'Parameter-efficient fine-tuning', 'Practical tips', 'Open-source models and datasets', 'Data collection tools', 'Synthetic data generation', 'AWS initiatives']\n",
      "Takeaways: ['Fine-tuning is necessary to extract knowledge from large language models', 'Supervised fine-tuning involves creating prompt datasets and query-response pairs', 'RLHF uses human feedback to rank model responses and guide reinforcement learning', 'RLHF reduces catastrophic forgetting in models', 'Data requirements for fine-tuning depend on the task and model', 'Better evaluation metrics are needed for large language models', 'Scaling laws and parameter-efficient fine-tuning are important research areas', 'Practical tips include shrinking models and utilizing available compute resources', 'Open-source models and datasets are available for supervised fine-tuning', 'Data collection tools like Scale AI can assist in creating prompt and answer pairs', 'Synthetic data generation is possible but has licensing and legal considerations', 'RL is a generic and principled approach for fine-tuning', 'Data is crucial for machine learning models', 'AWS has initiatives for creating foundational models and collaborating with other labs']\n"
     ]
    }
   ],
   "source": [
    "for key, value in metadata.items():\n",
    "    print(f'{key}: {value}')"
   ]
  },
  {
   "cell_type": "code",
   "execution_count": 9,
   "metadata": {},
   "outputs": [],
   "source": [
    "import json\n",
    "\n",
    "metadata_filepath = r'./metadata/test_metadata.json'\n",
    "with open(metadata_filepath, 'w') as file:\n",
    "    json.dump(metadata, file)"
   ]
  },
  {
   "cell_type": "code",
   "execution_count": null,
   "metadata": {},
   "outputs": [],
   "source": []
  },
  {
   "cell_type": "code",
   "execution_count": null,
   "metadata": {},
   "outputs": [],
   "source": []
  },
  {
   "cell_type": "code",
   "execution_count": null,
   "metadata": {},
   "outputs": [],
   "source": []
  }
 ],
 "metadata": {
  "kernelspec": {
   "display_name": "Python 3",
   "language": "python",
   "name": "python3"
  },
  "language_info": {
   "codemirror_mode": {
    "name": "ipython",
    "version": 3
   },
   "file_extension": ".py",
   "mimetype": "text/x-python",
   "name": "python",
   "nbconvert_exporter": "python",
   "pygments_lexer": "ipython3",
   "version": "3.9.13"
  },
  "orig_nbformat": 4
 },
 "nbformat": 4,
 "nbformat_minor": 2
}
